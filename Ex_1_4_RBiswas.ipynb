{
 "cells": [
  {
   "cell_type": "code",
   "execution_count": 1,
   "metadata": {},
   "outputs": [],
   "source": [
    "# -------------------------------------------------------------------------\n",
    "# File: Ex_1_4_RBiswas.ipynb\n",
    "# Name: Rajdeep Biswas\n",
    "# Date: 05/31/2020\n",
    "# Desc: EDA Exercise 1.4\n",
    "# -------------------------------------------------------------------------"
   ]
  },
  {
   "cell_type": "code",
   "execution_count": 3,
   "metadata": {},
   "outputs": [
    {
     "name": "stdout",
     "output_type": "stream",
     "text": [
      "“Hello World! I wonder why that is always the default coding text to start with”\n"
     ]
    }
   ],
   "source": [
    "#Display the text “Hello World! I wonder why that is always the default coding text to start with”\n",
    "print('“Hello World! I wonder why that is always the default coding text to start with”')"
   ]
  },
  {
   "cell_type": "code",
   "execution_count": 4,
   "metadata": {},
   "outputs": [
    {
     "name": "stdout",
     "output_type": "stream",
     "text": [
      "1+2= 3\n"
     ]
    }
   ],
   "source": [
    "#Add two numbers together\n",
    "print ('1+2=',1+2)"
   ]
  },
  {
   "cell_type": "code",
   "execution_count": 5,
   "metadata": {},
   "outputs": [
    {
     "name": "stdout",
     "output_type": "stream",
     "text": [
      "2-1= 1\n"
     ]
    }
   ],
   "source": [
    "#Subtract a number from another number\n",
    "print ('2-1=',2-1)"
   ]
  },
  {
   "cell_type": "code",
   "execution_count": 6,
   "metadata": {},
   "outputs": [
    {
     "name": "stdout",
     "output_type": "stream",
     "text": [
      "2*1.6= 3.2\n"
     ]
    }
   ],
   "source": [
    "#Multiply two numbers\n",
    "print ('2*1.6=',2*1.6)"
   ]
  },
  {
   "cell_type": "code",
   "execution_count": 8,
   "metadata": {},
   "outputs": [
    {
     "name": "stdout",
     "output_type": "stream",
     "text": [
      "2.5/2= 1.25\n"
     ]
    }
   ],
   "source": [
    "#Divide between two numbers\n",
    "print ('2.5/2=',2.5/2)"
   ]
  },
  {
   "cell_type": "code",
   "execution_count": 9,
   "metadata": {},
   "outputs": [
    {
     "name": "stdout",
     "output_type": "stream",
     "text": [
      "two strings\n"
     ]
    }
   ],
   "source": [
    "#Concatenate two strings together (any words)\n",
    "print('two','strings', sep=' ')"
   ]
  },
  {
   "cell_type": "code",
   "execution_count": 10,
   "metadata": {},
   "outputs": [
    {
     "name": "stdout",
     "output_type": "stream",
     "text": [
      "my_list:  [1, 2.5, 'a', 'xyz']\n"
     ]
    }
   ],
   "source": [
    "#Create a list of 4 items (can be strings, numbers, both)\n",
    "my_list = [1,2.5,'a','xyz']\n",
    "print ('my_list: ',my_list)"
   ]
  },
  {
   "cell_type": "code",
   "execution_count": 11,
   "metadata": {},
   "outputs": [
    {
     "name": "stdout",
     "output_type": "stream",
     "text": [
      "my_list:  [1, 2.5, 'a', 'xyz', 'new']\n"
     ]
    }
   ],
   "source": [
    "#Append an item to your list (again, can be a string, number)\n",
    "my_list.append('new')\n",
    "print ('my_list: ',my_list)"
   ]
  },
  {
   "cell_type": "code",
   "execution_count": 12,
   "metadata": {},
   "outputs": [
    {
     "name": "stdout",
     "output_type": "stream",
     "text": [
      "my_tupple:  (1, 2.5, 'a', 'xyz')\n"
     ]
    }
   ],
   "source": [
    "#Create a tuple with 4 items (can be strings, numbers, both)\n",
    "my_tupple = (1,2.5,'a','xyz')\n",
    "print('my_tupple: ',my_tupple)"
   ]
  },
  {
   "cell_type": "code",
   "execution_count": null,
   "metadata": {},
   "outputs": [],
   "source": []
  }
 ],
 "metadata": {
  "kernelspec": {
   "display_name": "Python 3",
   "language": "python",
   "name": "python3"
  },
  "language_info": {
   "codemirror_mode": {
    "name": "ipython",
    "version": 3
   },
   "file_extension": ".py",
   "mimetype": "text/x-python",
   "name": "python",
   "nbconvert_exporter": "python",
   "pygments_lexer": "ipython3",
   "version": "3.7.6"
  }
 },
 "nbformat": 4,
 "nbformat_minor": 4
}
