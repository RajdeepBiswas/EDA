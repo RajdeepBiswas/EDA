{
 "cells": [
  {
   "cell_type": "code",
   "execution_count": 17,
   "metadata": {},
   "outputs": [],
   "source": [
    "from __future__ import print_function, division\n",
    "import scipy.stats"
   ]
  },
  {
   "cell_type": "markdown",
   "metadata": {},
   "source": [
    "**Exercise 5.1** In the BRFSS (see Section 5.4), the distribution of heights is\n",
    "roughly normal with parameters µ = 178 cm and σ = 7.7 cm for men, and\n",
    "µ = 163 cm and σ = 7.3 cm for women.\n",
    "In order to join Blue Man Group, you have to be male between 5’10” and\n",
    "6’1” (see http://bluemancasting.com). What percentage of the U.S. male\n",
    "population is in this range?"
   ]
  },
  {
   "cell_type": "code",
   "execution_count": 2,
   "metadata": {},
   "outputs": [
    {
     "data": {
      "text/plain": [
       "scipy.stats._distn_infrastructure.rv_frozen"
      ]
     },
     "execution_count": 2,
     "metadata": {},
     "output_type": "execute_result"
    }
   ],
   "source": [
    "#scipy.stats.norm represents a normal distribution.\n",
    "mu = 178\n",
    "sigma = 7.7\n",
    "dist = scipy.stats.norm(loc=mu, scale=sigma)\n",
    "type(dist)"
   ]
  },
  {
   "cell_type": "code",
   "execution_count": 3,
   "metadata": {},
   "outputs": [
    {
     "data": {
      "text/plain": [
       "(178.0, 7.7)"
      ]
     },
     "execution_count": 3,
     "metadata": {},
     "output_type": "execute_result"
    }
   ],
   "source": [
    "#A \"frozen random variable\" can compute its mean and standard deviation.\n",
    "dist.mean(), dist.std()"
   ]
  },
  {
   "cell_type": "code",
   "execution_count": 4,
   "metadata": {},
   "outputs": [
    {
     "data": {
      "text/plain": [
       "0.1586552539314574"
      ]
     },
     "execution_count": 4,
     "metadata": {},
     "output_type": "execute_result"
    }
   ],
   "source": [
    "#It can also evaluate its CDF.  How many people are more than one standard deviation below the mean?  About 16%\n",
    "dist.cdf(mu-sigma)"
   ]
  },
  {
   "cell_type": "code",
   "execution_count": 5,
   "metadata": {},
   "outputs": [
    {
     "data": {
      "text/plain": [
       "(0.48963902786483265, 0.8317337108107857, 0.3420946829459531)"
      ]
     },
     "execution_count": 5,
     "metadata": {},
     "output_type": "execute_result"
    }
   ],
   "source": [
    "#How many people are between 5'10\" and 6'1\"?\n",
    "#Solution\n",
    "\n",
    "low = dist.cdf(177.8)    # 5'10\"\n",
    "high = dist.cdf(185.4)   # 6'1\"\n",
    "low, high, high-low"
   ]
  },
  {
   "cell_type": "code",
   "execution_count": 8,
   "metadata": {},
   "outputs": [
    {
     "data": {
      "text/plain": [
       "0.3420946829459531"
      ]
     },
     "execution_count": 8,
     "metadata": {},
     "output_type": "execute_result"
    }
   ],
   "source": [
    "high-low"
   ]
  },
  {
   "cell_type": "markdown",
   "metadata": {},
   "source": [
    "**Exercise 5.2** To get a feel for the Pareto distribution, let’s see how different\n",
    "the world would be if the distribution of human height were Pareto. With the\n",
    "parameters xm = 1 m and α = 1.7, we get a distribution with a reasonable\n",
    "minimum, 1 m, and median, 1.5 m.\n",
    "Plot this distribution. What is the mean human height in Pareto world?\n",
    "What fraction of the population is shorter than the mean? If there are 7\n",
    "billion people in Pareto world, how many do we expect to be taller than 1\n",
    "km? How tall do we expect the tallest person to be?\n"
   ]
  },
  {
   "cell_type": "code",
   "execution_count": 9,
   "metadata": {},
   "outputs": [
    {
     "data": {
      "text/plain": [
       "1.5034066538560549"
      ]
     },
     "execution_count": 9,
     "metadata": {},
     "output_type": "execute_result"
    }
   ],
   "source": [
    "# scipy.stats.pareto represents a pareto distribution. \n",
    "#In Pareto world, the distribution of human heights has parameters alpha=1.7 and xmin=1 meter. \n",
    "#So the shortest person is 100 cm and the median is 150.\n",
    "alpha = 1.7\n",
    "xmin = 1       # meter\n",
    "dist = scipy.stats.pareto(b=alpha, scale=xmin)\n",
    "dist.median()"
   ]
  },
  {
   "cell_type": "code",
   "execution_count": 10,
   "metadata": {},
   "outputs": [
    {
     "data": {
      "text/plain": [
       "2.428571428571429"
      ]
     },
     "execution_count": 10,
     "metadata": {},
     "output_type": "execute_result"
    }
   ],
   "source": [
    "#What is the mean height in Pareto world?\n",
    "#Solution\n",
    "\n",
    "dist.mean()"
   ]
  },
  {
   "cell_type": "code",
   "execution_count": 11,
   "metadata": {},
   "outputs": [
    {
     "data": {
      "text/plain": [
       "0.778739697565288"
      ]
     },
     "execution_count": 11,
     "metadata": {},
     "output_type": "execute_result"
    }
   ],
   "source": [
    "#What fraction of people are shorter than the mean?\n",
    "#Solution\n",
    "\n",
    "dist.cdf(dist.mean())"
   ]
  },
  {
   "cell_type": "code",
   "execution_count": 13,
   "metadata": {},
   "outputs": [
    {
     "name": "stdout",
     "output_type": "stream",
     "text": [
      "55602.976430479954\n"
     ]
    },
    {
     "data": {
      "text/plain": [
       "55602.97643069972"
      ]
     },
     "execution_count": 13,
     "metadata": {},
     "output_type": "execute_result"
    }
   ],
   "source": [
    "#Out of 7 billion people, how many do we expect to be taller than 1 km?  \n",
    "#Solution\n",
    "\n",
    "#Option 1 using dist.cdf\n",
    "print( (1 - dist.cdf(1000)) * 7e9)\n",
    "\n",
    "#Option 2 using dist.sf\n",
    "dist.sf(1000) * 7e9"
   ]
  },
  {
   "cell_type": "code",
   "execution_count": 14,
   "metadata": {},
   "outputs": [],
   "source": [
    "#How tall do we expect the tallest person to be?"
   ]
  },
  {
   "cell_type": "code",
   "execution_count": 15,
   "metadata": {},
   "outputs": [
    {
     "data": {
      "text/plain": [
       "1.0525455861201714"
      ]
     },
     "execution_count": 15,
     "metadata": {},
     "output_type": "execute_result"
    }
   ],
   "source": [
    "# Solution\n",
    "\n",
    "# One way to solve this is to search for a height that we\n",
    "# expect one person out of 7 billion to exceed.\n",
    "\n",
    "# It comes in at roughly 600 kilometers.\n",
    "\n",
    "dist.sf(600000) * 7e9 "
   ]
  },
  {
   "cell_type": "code",
   "execution_count": 16,
   "metadata": {},
   "outputs": [
    {
     "data": {
      "text/plain": [
       "618349.6106759505"
      ]
     },
     "execution_count": 16,
     "metadata": {},
     "output_type": "execute_result"
    }
   ],
   "source": [
    "# Solution\n",
    "\n",
    "# Another way is to use `ppf`, which evaluates the \"percent point function\", which\n",
    "# is the inverse CDF.  So we can compute the height in meters that corresponds to\n",
    "# the probability (1 - 1/7e9).\n",
    "\n",
    "dist.ppf(1 - 1/7e9)"
   ]
  },
  {
   "cell_type": "code",
   "execution_count": null,
   "metadata": {},
   "outputs": [],
   "source": []
  }
 ],
 "metadata": {
  "kernelspec": {
   "display_name": "Python 3",
   "language": "python",
   "name": "python3"
  },
  "language_info": {
   "codemirror_mode": {
    "name": "ipython",
    "version": 3
   },
   "file_extension": ".py",
   "mimetype": "text/x-python",
   "name": "python",
   "nbconvert_exporter": "python",
   "pygments_lexer": "ipython3",
   "version": "3.7.6"
  }
 },
 "nbformat": 4,
 "nbformat_minor": 4
}
